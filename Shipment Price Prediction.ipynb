{
 "cells": [
  {
   "cell_type": "code",
   "execution_count": 1,
   "metadata": {},
   "outputs": [],
   "source": [
    "## import necessary libraries\n",
    "\n",
    "import numpy as np\n",
    "import pandas as pd\n",
    "import matplotlib.pyplot as plt\n",
    "import seaborn as sns\n",
    "\n",
    "## import warning\n",
    "import warnings\n",
    "warnings.filterwarnings(\"ignore\")\n"
   ]
  },
  {
   "cell_type": "markdown",
   "metadata": {},
   "source": [
    "# <font color ='green'>Step 1: Read & understand the data"
   ]
  },
  {
   "cell_type": "code",
   "execution_count": 2,
   "metadata": {
    "scrolled": false
   },
   "outputs": [
    {
     "data": {
      "text/html": [
       "<div>\n",
       "<style scoped>\n",
       "    .dataframe tbody tr th:only-of-type {\n",
       "        vertical-align: middle;\n",
       "    }\n",
       "\n",
       "    .dataframe tbody tr th {\n",
       "        vertical-align: top;\n",
       "    }\n",
       "\n",
       "    .dataframe thead th {\n",
       "        text-align: right;\n",
       "    }\n",
       "</style>\n",
       "<table border=\"1\" class=\"dataframe\">\n",
       "  <thead>\n",
       "    <tr style=\"text-align: right;\">\n",
       "      <th></th>\n",
       "      <th>ID</th>\n",
       "      <th>Project Code</th>\n",
       "      <th>PQ #</th>\n",
       "      <th>PO / SO #</th>\n",
       "      <th>ASN/DN #</th>\n",
       "      <th>Country</th>\n",
       "      <th>Managed By</th>\n",
       "      <th>Fulfill Via</th>\n",
       "      <th>Vendor INCO Term</th>\n",
       "      <th>Shipment Mode</th>\n",
       "      <th>...</th>\n",
       "      <th>Unit of Measure (Per Pack)</th>\n",
       "      <th>Line Item Quantity</th>\n",
       "      <th>Line Item Value</th>\n",
       "      <th>Pack Price</th>\n",
       "      <th>Unit Price</th>\n",
       "      <th>Manufacturing Site</th>\n",
       "      <th>First Line Designation</th>\n",
       "      <th>Weight (Kilograms)</th>\n",
       "      <th>Freight Cost (USD)</th>\n",
       "      <th>Line Item Insurance (USD)</th>\n",
       "    </tr>\n",
       "  </thead>\n",
       "  <tbody>\n",
       "    <tr>\n",
       "      <th>0</th>\n",
       "      <td>1</td>\n",
       "      <td>100-CI-T01</td>\n",
       "      <td>Pre-PQ Process</td>\n",
       "      <td>SCMS-4</td>\n",
       "      <td>ASN-8</td>\n",
       "      <td>Côte d'Ivoire</td>\n",
       "      <td>PMO - US</td>\n",
       "      <td>Direct Drop</td>\n",
       "      <td>EXW</td>\n",
       "      <td>Air</td>\n",
       "      <td>...</td>\n",
       "      <td>30</td>\n",
       "      <td>19</td>\n",
       "      <td>551.0</td>\n",
       "      <td>29.00</td>\n",
       "      <td>0.97</td>\n",
       "      <td>Ranbaxy Fine Chemicals LTD</td>\n",
       "      <td>Yes</td>\n",
       "      <td>13</td>\n",
       "      <td>780.34</td>\n",
       "      <td>NaN</td>\n",
       "    </tr>\n",
       "    <tr>\n",
       "      <th>1</th>\n",
       "      <td>3</td>\n",
       "      <td>108-VN-T01</td>\n",
       "      <td>Pre-PQ Process</td>\n",
       "      <td>SCMS-13</td>\n",
       "      <td>ASN-85</td>\n",
       "      <td>Vietnam</td>\n",
       "      <td>PMO - US</td>\n",
       "      <td>Direct Drop</td>\n",
       "      <td>EXW</td>\n",
       "      <td>Air</td>\n",
       "      <td>...</td>\n",
       "      <td>240</td>\n",
       "      <td>1000</td>\n",
       "      <td>6200.0</td>\n",
       "      <td>6.20</td>\n",
       "      <td>0.03</td>\n",
       "      <td>Aurobindo Unit III, India</td>\n",
       "      <td>Yes</td>\n",
       "      <td>358</td>\n",
       "      <td>4521.5</td>\n",
       "      <td>NaN</td>\n",
       "    </tr>\n",
       "    <tr>\n",
       "      <th>2</th>\n",
       "      <td>4</td>\n",
       "      <td>100-CI-T01</td>\n",
       "      <td>Pre-PQ Process</td>\n",
       "      <td>SCMS-20</td>\n",
       "      <td>ASN-14</td>\n",
       "      <td>Côte d'Ivoire</td>\n",
       "      <td>PMO - US</td>\n",
       "      <td>Direct Drop</td>\n",
       "      <td>FCA</td>\n",
       "      <td>Air</td>\n",
       "      <td>...</td>\n",
       "      <td>100</td>\n",
       "      <td>500</td>\n",
       "      <td>40000.0</td>\n",
       "      <td>80.00</td>\n",
       "      <td>0.80</td>\n",
       "      <td>ABBVIE GmbH &amp; Co.KG Wiesbaden</td>\n",
       "      <td>Yes</td>\n",
       "      <td>171</td>\n",
       "      <td>1653.78</td>\n",
       "      <td>NaN</td>\n",
       "    </tr>\n",
       "    <tr>\n",
       "      <th>3</th>\n",
       "      <td>15</td>\n",
       "      <td>108-VN-T01</td>\n",
       "      <td>Pre-PQ Process</td>\n",
       "      <td>SCMS-78</td>\n",
       "      <td>ASN-50</td>\n",
       "      <td>Vietnam</td>\n",
       "      <td>PMO - US</td>\n",
       "      <td>Direct Drop</td>\n",
       "      <td>EXW</td>\n",
       "      <td>Air</td>\n",
       "      <td>...</td>\n",
       "      <td>60</td>\n",
       "      <td>31920</td>\n",
       "      <td>127360.8</td>\n",
       "      <td>3.99</td>\n",
       "      <td>0.07</td>\n",
       "      <td>Ranbaxy, Paonta Shahib, India</td>\n",
       "      <td>Yes</td>\n",
       "      <td>1855</td>\n",
       "      <td>16007.06</td>\n",
       "      <td>NaN</td>\n",
       "    </tr>\n",
       "    <tr>\n",
       "      <th>4</th>\n",
       "      <td>16</td>\n",
       "      <td>108-VN-T01</td>\n",
       "      <td>Pre-PQ Process</td>\n",
       "      <td>SCMS-81</td>\n",
       "      <td>ASN-55</td>\n",
       "      <td>Vietnam</td>\n",
       "      <td>PMO - US</td>\n",
       "      <td>Direct Drop</td>\n",
       "      <td>EXW</td>\n",
       "      <td>Air</td>\n",
       "      <td>...</td>\n",
       "      <td>60</td>\n",
       "      <td>38000</td>\n",
       "      <td>121600.0</td>\n",
       "      <td>3.20</td>\n",
       "      <td>0.05</td>\n",
       "      <td>Aurobindo Unit III, India</td>\n",
       "      <td>Yes</td>\n",
       "      <td>7590</td>\n",
       "      <td>45450.08</td>\n",
       "      <td>NaN</td>\n",
       "    </tr>\n",
       "  </tbody>\n",
       "</table>\n",
       "<p>5 rows × 33 columns</p>\n",
       "</div>"
      ],
      "text/plain": [
       "   ID Project Code            PQ # PO / SO # ASN/DN #        Country  \\\n",
       "0   1   100-CI-T01  Pre-PQ Process    SCMS-4    ASN-8  Côte d'Ivoire   \n",
       "1   3   108-VN-T01  Pre-PQ Process   SCMS-13   ASN-85        Vietnam   \n",
       "2   4   100-CI-T01  Pre-PQ Process   SCMS-20   ASN-14  Côte d'Ivoire   \n",
       "3  15   108-VN-T01  Pre-PQ Process   SCMS-78   ASN-50        Vietnam   \n",
       "4  16   108-VN-T01  Pre-PQ Process   SCMS-81   ASN-55        Vietnam   \n",
       "\n",
       "  Managed By  Fulfill Via Vendor INCO Term Shipment Mode  ...  \\\n",
       "0   PMO - US  Direct Drop              EXW           Air  ...   \n",
       "1   PMO - US  Direct Drop              EXW           Air  ...   \n",
       "2   PMO - US  Direct Drop              FCA           Air  ...   \n",
       "3   PMO - US  Direct Drop              EXW           Air  ...   \n",
       "4   PMO - US  Direct Drop              EXW           Air  ...   \n",
       "\n",
       "  Unit of Measure (Per Pack) Line Item Quantity Line Item Value Pack Price  \\\n",
       "0                         30                 19           551.0      29.00   \n",
       "1                        240               1000          6200.0       6.20   \n",
       "2                        100                500         40000.0      80.00   \n",
       "3                         60              31920        127360.8       3.99   \n",
       "4                         60              38000        121600.0       3.20   \n",
       "\n",
       "  Unit Price             Manufacturing Site First Line Designation  \\\n",
       "0       0.97     Ranbaxy Fine Chemicals LTD                    Yes   \n",
       "1       0.03      Aurobindo Unit III, India                    Yes   \n",
       "2       0.80  ABBVIE GmbH & Co.KG Wiesbaden                    Yes   \n",
       "3       0.07  Ranbaxy, Paonta Shahib, India                    Yes   \n",
       "4       0.05      Aurobindo Unit III, India                    Yes   \n",
       "\n",
       "  Weight (Kilograms) Freight Cost (USD) Line Item Insurance (USD)  \n",
       "0                 13             780.34                       NaN  \n",
       "1                358             4521.5                       NaN  \n",
       "2                171            1653.78                       NaN  \n",
       "3               1855           16007.06                       NaN  \n",
       "4               7590           45450.08                       NaN  \n",
       "\n",
       "[5 rows x 33 columns]"
      ]
     },
     "execution_count": 2,
     "metadata": {},
     "output_type": "execute_result"
    }
   ],
   "source": [
    "## read the data\n",
    "df_shipment = pd.read_csv(\"SCMS_Delivery_History_Dataset.csv\")\n",
    "df_shipment.head()"
   ]
  },
  {
   "cell_type": "code",
   "execution_count": 4,
   "metadata": {},
   "outputs": [
    {
     "data": {
      "text/plain": [
       "(10324, 33)"
      ]
     },
     "execution_count": 4,
     "metadata": {},
     "output_type": "execute_result"
    }
   ],
   "source": [
    "# check data size\n",
    "df_shipment.shape"
   ]
  },
  {
   "cell_type": "code",
   "execution_count": 3,
   "metadata": {
    "scrolled": true
   },
   "outputs": [
    {
     "name": "stdout",
     "output_type": "stream",
     "text": [
      "<class 'pandas.core.frame.DataFrame'>\n",
      "RangeIndex: 10324 entries, 0 to 10323\n",
      "Data columns (total 33 columns):\n",
      " #   Column                        Non-Null Count  Dtype  \n",
      "---  ------                        --------------  -----  \n",
      " 0   ID                            10324 non-null  int64  \n",
      " 1   Project Code                  10324 non-null  object \n",
      " 2   PQ #                          10324 non-null  object \n",
      " 3   PO / SO #                     10324 non-null  object \n",
      " 4   ASN/DN #                      10324 non-null  object \n",
      " 5   Country                       10324 non-null  object \n",
      " 6   Managed By                    10324 non-null  object \n",
      " 7   Fulfill Via                   10324 non-null  object \n",
      " 8   Vendor INCO Term              10324 non-null  object \n",
      " 9   Shipment Mode                 9964 non-null   object \n",
      " 10  PQ First Sent to Client Date  10324 non-null  object \n",
      " 11  PO Sent to Vendor Date        10324 non-null  object \n",
      " 12  Scheduled Delivery Date       10324 non-null  object \n",
      " 13  Delivered to Client Date      10324 non-null  object \n",
      " 14  Delivery Recorded Date        10324 non-null  object \n",
      " 15  Product Group                 10324 non-null  object \n",
      " 16  Sub Classification            10324 non-null  object \n",
      " 17  Vendor                        10324 non-null  object \n",
      " 18  Item Description              10324 non-null  object \n",
      " 19  Molecule/Test Type            10324 non-null  object \n",
      " 20  Brand                         10324 non-null  object \n",
      " 21  Dosage                        8588 non-null   object \n",
      " 22  Dosage Form                   10324 non-null  object \n",
      " 23  Unit of Measure (Per Pack)    10324 non-null  int64  \n",
      " 24  Line Item Quantity            10324 non-null  int64  \n",
      " 25  Line Item Value               10324 non-null  float64\n",
      " 26  Pack Price                    10324 non-null  float64\n",
      " 27  Unit Price                    10324 non-null  float64\n",
      " 28  Manufacturing Site            10324 non-null  object \n",
      " 29  First Line Designation        10324 non-null  object \n",
      " 30  Weight (Kilograms)            10324 non-null  object \n",
      " 31  Freight Cost (USD)            10324 non-null  object \n",
      " 32  Line Item Insurance (USD)     10037 non-null  float64\n",
      "dtypes: float64(4), int64(3), object(26)\n",
      "memory usage: 2.6+ MB\n"
     ]
    }
   ],
   "source": [
    "## check data info\n",
    "df_shipment.info()"
   ]
  },
  {
   "cell_type": "code",
   "execution_count": 8,
   "metadata": {},
   "outputs": [
    {
     "data": {
      "text/html": [
       "<div>\n",
       "<style scoped>\n",
       "    .dataframe tbody tr th:only-of-type {\n",
       "        vertical-align: middle;\n",
       "    }\n",
       "\n",
       "    .dataframe tbody tr th {\n",
       "        vertical-align: top;\n",
       "    }\n",
       "\n",
       "    .dataframe thead th {\n",
       "        text-align: right;\n",
       "    }\n",
       "</style>\n",
       "<table border=\"1\" class=\"dataframe\">\n",
       "  <thead>\n",
       "    <tr style=\"text-align: right;\">\n",
       "      <th></th>\n",
       "      <th>ID</th>\n",
       "      <th>Unit of Measure (Per Pack)</th>\n",
       "      <th>Line Item Quantity</th>\n",
       "      <th>Line Item Value</th>\n",
       "      <th>Pack Price</th>\n",
       "      <th>Unit Price</th>\n",
       "      <th>Line Item Insurance (USD)</th>\n",
       "    </tr>\n",
       "  </thead>\n",
       "  <tbody>\n",
       "    <tr>\n",
       "      <th>count</th>\n",
       "      <td>10324.000000</td>\n",
       "      <td>10324.000000</td>\n",
       "      <td>10324.000000</td>\n",
       "      <td>1.032400e+04</td>\n",
       "      <td>10324.000000</td>\n",
       "      <td>10324.000000</td>\n",
       "      <td>10037.000000</td>\n",
       "    </tr>\n",
       "    <tr>\n",
       "      <th>mean</th>\n",
       "      <td>51098.968229</td>\n",
       "      <td>77.990895</td>\n",
       "      <td>18332.534870</td>\n",
       "      <td>1.576506e+05</td>\n",
       "      <td>21.910241</td>\n",
       "      <td>0.611701</td>\n",
       "      <td>240.117626</td>\n",
       "    </tr>\n",
       "    <tr>\n",
       "      <th>std</th>\n",
       "      <td>31944.332496</td>\n",
       "      <td>76.579764</td>\n",
       "      <td>40035.302961</td>\n",
       "      <td>3.452921e+05</td>\n",
       "      <td>45.609223</td>\n",
       "      <td>3.275808</td>\n",
       "      <td>500.190568</td>\n",
       "    </tr>\n",
       "    <tr>\n",
       "      <th>min</th>\n",
       "      <td>1.000000</td>\n",
       "      <td>1.000000</td>\n",
       "      <td>1.000000</td>\n",
       "      <td>0.000000e+00</td>\n",
       "      <td>0.000000</td>\n",
       "      <td>0.000000</td>\n",
       "      <td>0.000000</td>\n",
       "    </tr>\n",
       "    <tr>\n",
       "      <th>25%</th>\n",
       "      <td>12795.750000</td>\n",
       "      <td>30.000000</td>\n",
       "      <td>408.000000</td>\n",
       "      <td>4.314593e+03</td>\n",
       "      <td>4.120000</td>\n",
       "      <td>0.080000</td>\n",
       "      <td>6.510000</td>\n",
       "    </tr>\n",
       "    <tr>\n",
       "      <th>50%</th>\n",
       "      <td>57540.500000</td>\n",
       "      <td>60.000000</td>\n",
       "      <td>3000.000000</td>\n",
       "      <td>3.047147e+04</td>\n",
       "      <td>9.300000</td>\n",
       "      <td>0.160000</td>\n",
       "      <td>47.040000</td>\n",
       "    </tr>\n",
       "    <tr>\n",
       "      <th>75%</th>\n",
       "      <td>83648.250000</td>\n",
       "      <td>90.000000</td>\n",
       "      <td>17039.750000</td>\n",
       "      <td>1.664471e+05</td>\n",
       "      <td>23.592500</td>\n",
       "      <td>0.470000</td>\n",
       "      <td>252.400000</td>\n",
       "    </tr>\n",
       "    <tr>\n",
       "      <th>max</th>\n",
       "      <td>86823.000000</td>\n",
       "      <td>1000.000000</td>\n",
       "      <td>619999.000000</td>\n",
       "      <td>5.951990e+06</td>\n",
       "      <td>1345.640000</td>\n",
       "      <td>238.650000</td>\n",
       "      <td>7708.440000</td>\n",
       "    </tr>\n",
       "  </tbody>\n",
       "</table>\n",
       "</div>"
      ],
      "text/plain": [
       "                 ID  Unit of Measure (Per Pack)  Line Item Quantity  \\\n",
       "count  10324.000000                10324.000000        10324.000000   \n",
       "mean   51098.968229                   77.990895        18332.534870   \n",
       "std    31944.332496                   76.579764        40035.302961   \n",
       "min        1.000000                    1.000000            1.000000   \n",
       "25%    12795.750000                   30.000000          408.000000   \n",
       "50%    57540.500000                   60.000000         3000.000000   \n",
       "75%    83648.250000                   90.000000        17039.750000   \n",
       "max    86823.000000                 1000.000000       619999.000000   \n",
       "\n",
       "       Line Item Value    Pack Price    Unit Price  Line Item Insurance (USD)  \n",
       "count     1.032400e+04  10324.000000  10324.000000               10037.000000  \n",
       "mean      1.576506e+05     21.910241      0.611701                 240.117626  \n",
       "std       3.452921e+05     45.609223      3.275808                 500.190568  \n",
       "min       0.000000e+00      0.000000      0.000000                   0.000000  \n",
       "25%       4.314593e+03      4.120000      0.080000                   6.510000  \n",
       "50%       3.047147e+04      9.300000      0.160000                  47.040000  \n",
       "75%       1.664471e+05     23.592500      0.470000                 252.400000  \n",
       "max       5.951990e+06   1345.640000    238.650000                7708.440000  "
      ]
     },
     "execution_count": 8,
     "metadata": {},
     "output_type": "execute_result"
    }
   ],
   "source": [
    "# check statistics for numeric columns\n",
    "df_shipment.describe()"
   ]
  },
  {
   "cell_type": "markdown",
   "metadata": {},
   "source": [
    "# <font color = 'green'> Step 2: Data cleaning"
   ]
  },
  {
   "cell_type": "code",
   "execution_count": 10,
   "metadata": {
    "scrolled": true
   },
   "outputs": [
    {
     "data": {
      "text/plain": [
       "Shipment Mode                 360\n",
       "Dosage                       1736\n",
       "Line Item Insurance (USD)     287\n",
       "dtype: int64"
      ]
     },
     "execution_count": 10,
     "metadata": {},
     "output_type": "execute_result"
    }
   ],
   "source": [
    "# check for null values\n",
    "df_shipment.isnull().sum()[df_shipment.isnull().sum()>0]"
   ]
  },
  {
   "cell_type": "code",
   "execution_count": 25,
   "metadata": {},
   "outputs": [
    {
     "data": {
      "text/html": [
       "<div>\n",
       "<style scoped>\n",
       "    .dataframe tbody tr th:only-of-type {\n",
       "        vertical-align: middle;\n",
       "    }\n",
       "\n",
       "    .dataframe tbody tr th {\n",
       "        vertical-align: top;\n",
       "    }\n",
       "\n",
       "    .dataframe thead th {\n",
       "        text-align: right;\n",
       "    }\n",
       "</style>\n",
       "<table border=\"1\" class=\"dataframe\">\n",
       "  <thead>\n",
       "    <tr style=\"text-align: right;\">\n",
       "      <th></th>\n",
       "      <th>null_count</th>\n",
       "      <th>percent_null</th>\n",
       "    </tr>\n",
       "  </thead>\n",
       "  <tbody>\n",
       "    <tr>\n",
       "      <th>Shipment Mode</th>\n",
       "      <td>360</td>\n",
       "      <td>3.487021</td>\n",
       "    </tr>\n",
       "    <tr>\n",
       "      <th>Dosage</th>\n",
       "      <td>1736</td>\n",
       "      <td>16.815188</td>\n",
       "    </tr>\n",
       "    <tr>\n",
       "      <th>Line Item Insurance (USD)</th>\n",
       "      <td>287</td>\n",
       "      <td>2.779930</td>\n",
       "    </tr>\n",
       "  </tbody>\n",
       "</table>\n",
       "</div>"
      ],
      "text/plain": [
       "                           null_count  percent_null\n",
       "Shipment Mode                     360      3.487021\n",
       "Dosage                           1736     16.815188\n",
       "Line Item Insurance (USD)         287      2.779930"
      ]
     },
     "execution_count": 25,
     "metadata": {},
     "output_type": "execute_result"
    }
   ],
   "source": [
    "# find percent null values\n",
    "null_count = pd.DataFrame(df_shipment.isnull().sum()[df_shipment.isnull().sum()>0], columns=[\"null_count\"])\n",
    "null_count[\"percent_null\"] = null_count[\"null_count\"]*100/df_shipment.shape[0]\n",
    "null_count"
   ]
  },
  {
   "cell_type": "code",
   "execution_count": 12,
   "metadata": {},
   "outputs": [
    {
     "data": {
      "text/plain": [
       "['Shipment Mode', 'Dosage', 'Line Item Insurance (USD)']"
      ]
     },
     "execution_count": 12,
     "metadata": {},
     "output_type": "execute_result"
    }
   ],
   "source": [
    "# get the columns with null values\n",
    "null_cols = df_shipment.isnull().sum()[df_shipment.isnull().sum()>0].index.to_list()\n",
    "null_cols"
   ]
  },
  {
   "cell_type": "code",
   "execution_count": 14,
   "metadata": {},
   "outputs": [
    {
     "name": "stdout",
     "output_type": "stream",
     "text": [
      "<class 'pandas.core.frame.DataFrame'>\n",
      "RangeIndex: 10324 entries, 0 to 10323\n",
      "Data columns (total 3 columns):\n",
      " #   Column                     Non-Null Count  Dtype  \n",
      "---  ------                     --------------  -----  \n",
      " 0   Shipment Mode              9964 non-null   object \n",
      " 1   Dosage                     8588 non-null   object \n",
      " 2   Line Item Insurance (USD)  10037 non-null  float64\n",
      "dtypes: float64(1), object(2)\n",
      "memory usage: 242.1+ KB\n"
     ]
    }
   ],
   "source": [
    "# check the null_cols\n",
    "df_shipment[null_cols].info()"
   ]
  },
  {
   "cell_type": "code",
   "execution_count": 16,
   "metadata": {},
   "outputs": [
    {
     "data": {
      "text/html": [
       "<div>\n",
       "<style scoped>\n",
       "    .dataframe tbody tr th:only-of-type {\n",
       "        vertical-align: middle;\n",
       "    }\n",
       "\n",
       "    .dataframe tbody tr th {\n",
       "        vertical-align: top;\n",
       "    }\n",
       "\n",
       "    .dataframe thead th {\n",
       "        text-align: right;\n",
       "    }\n",
       "</style>\n",
       "<table border=\"1\" class=\"dataframe\">\n",
       "  <thead>\n",
       "    <tr style=\"text-align: right;\">\n",
       "      <th></th>\n",
       "      <th>Shipment Mode</th>\n",
       "      <th>Dosage</th>\n",
       "      <th>Line Item Insurance (USD)</th>\n",
       "    </tr>\n",
       "  </thead>\n",
       "  <tbody>\n",
       "    <tr>\n",
       "      <th>10319</th>\n",
       "      <td>Truck</td>\n",
       "      <td>30/50/60mg</td>\n",
       "      <td>705.79</td>\n",
       "    </tr>\n",
       "    <tr>\n",
       "      <th>10320</th>\n",
       "      <td>Truck</td>\n",
       "      <td>150/300mg</td>\n",
       "      <td>161.71</td>\n",
       "    </tr>\n",
       "    <tr>\n",
       "      <th>10321</th>\n",
       "      <td>Truck</td>\n",
       "      <td>600/300/300mg</td>\n",
       "      <td>5284.04</td>\n",
       "    </tr>\n",
       "    <tr>\n",
       "      <th>10322</th>\n",
       "      <td>Truck</td>\n",
       "      <td>150/300mg</td>\n",
       "      <td>134.03</td>\n",
       "    </tr>\n",
       "    <tr>\n",
       "      <th>10323</th>\n",
       "      <td>Truck</td>\n",
       "      <td>30/60mg</td>\n",
       "      <td>85.82</td>\n",
       "    </tr>\n",
       "  </tbody>\n",
       "</table>\n",
       "</div>"
      ],
      "text/plain": [
       "      Shipment Mode         Dosage  Line Item Insurance (USD)\n",
       "10319         Truck     30/50/60mg                     705.79\n",
       "10320         Truck      150/300mg                     161.71\n",
       "10321         Truck  600/300/300mg                    5284.04\n",
       "10322         Truck      150/300mg                     134.03\n",
       "10323         Truck        30/60mg                      85.82"
      ]
     },
     "execution_count": 16,
     "metadata": {},
     "output_type": "execute_result"
    }
   ],
   "source": [
    "# check the null_cols\n",
    "df_shipment[null_cols].tail()"
   ]
  },
  {
   "cell_type": "markdown",
   "metadata": {},
   "source": [
    "### <font color = 'blue'> Null Columns analysis"
   ]
  },
  {
   "cell_type": "code",
   "execution_count": 18,
   "metadata": {},
   "outputs": [
    {
     "data": {
      "text/plain": [
       "Air            6113\n",
       "Truck          2830\n",
       "Air Charter     650\n",
       "Ocean           371\n",
       "Name: Shipment Mode, dtype: int64"
      ]
     },
     "execution_count": 18,
     "metadata": {},
     "output_type": "execute_result"
    }
   ],
   "source": [
    "# Shipment Mode has around 3.5% null values\n",
    "df_shipment[\"Shipment Mode\"].value_counts()"
   ]
  },
  {
   "cell_type": "markdown",
   "metadata": {},
   "source": [
    "#### Observation: There are 4 shipment modes with 'Air' mode is dominant. So will impute Na values of the column by it. "
   ]
  },
  {
   "cell_type": "code",
   "execution_count": 28,
   "metadata": {},
   "outputs": [
    {
     "data": {
      "text/plain": [
       "300mg              990\n",
       "200mg              932\n",
       "600mg              772\n",
       "150/300mg          600\n",
       "150/300/200mg      580\n",
       "10mg/ml            552\n",
       "150mg              431\n",
       "200/50mg           395\n",
       "300/300mg          301\n",
       "600/300/300mg      286\n",
       "150/200/30mg       250\n",
       "100mg              228\n",
       "50mg               174\n",
       "200/300mg          160\n",
       "80/20mg/ml         158\n",
       "400mg              156\n",
       "20mg/ml            152\n",
       "30mg               144\n",
       "600/200/300mg      139\n",
       "150/30mg           133\n",
       "30/50/60mg         127\n",
       "300/200mg           94\n",
       "30/60mg             89\n",
       "250mg               88\n",
       "60/30mg             73\n",
       "100/25mg            73\n",
       "600/300mg           63\n",
       "300/100mg           54\n",
       "1mg/ml              54\n",
       "20mg                43\n",
       "25mg                39\n",
       "15mg                38\n",
       "30mg/ml             33\n",
       "300/150/300mg       28\n",
       "30/50/6mg           19\n",
       "30/6mg              14\n",
       "500/25mg            13\n",
       "80mg/ml             13\n",
       "60/100/12mg         12\n",
       "20/120mg            12\n",
       "2g                  11\n",
       "500mg               10\n",
       "150/300+200mg        8\n",
       "133.3/33.3mg         7\n",
       "150/300mg+600mg      7\n",
       "40mg                 6\n",
       "60/12mg              5\n",
       "150/200/40mg         5\n",
       "60mg                 5\n",
       "50+153mg             4\n",
       "125mg                4\n",
       "600mg/2ml            2\n",
       "50mg/g               1\n",
       "150/300+300mg        1\n",
       "Name: Dosage, dtype: int64"
      ]
     },
     "execution_count": 28,
     "metadata": {},
     "output_type": "execute_result"
    }
   ],
   "source": [
    "# Dosage has around 17% null values\n",
    "df_shipment[\"Dosage\"].value_counts()"
   ]
  },
  {
   "cell_type": "markdown",
   "metadata": {},
   "source": [
    "#### Observation: Dosage column has no any predominant category so will create new category 'Other' and impute NA with it "
   ]
  },
  {
   "cell_type": "code",
   "execution_count": 29,
   "metadata": {},
   "outputs": [
    {
     "data": {
      "text/plain": [
       "count    10037.000000\n",
       "mean       240.117626\n",
       "std        500.190568\n",
       "min          0.000000\n",
       "25%          6.510000\n",
       "50%         47.040000\n",
       "75%        252.400000\n",
       "max       7708.440000\n",
       "Name: Line Item Insurance (USD), dtype: float64"
      ]
     },
     "execution_count": 29,
     "metadata": {},
     "output_type": "execute_result"
    }
   ],
   "source": [
    "#Line Item Insurance (USD) has around 3% null values\n",
    "df_shipment[\"Line Item Insurance (USD)\"].describe()"
   ]
  },
  {
   "cell_type": "code",
   "execution_count": 32,
   "metadata": {},
   "outputs": [
    {
     "data": {
      "image/png": "[encoded data removed]",
      "text/plain": [
       "<Figure size 432x288 with 1 Axes>"
      ]
     },
     "metadata": {
      "needs_background": "light"
     },
     "output_type": "display_data"
    }
   ],
   "source": [
    "sns.boxplot(x=df_shipment[\"Line Item Insurance (USD)\"])\n",
    "plt.show()"
   ]
  },
  {
   "cell_type": "markdown",
   "metadata": {},
   "source": [
    "#### Observation: Line Item Insurance (USD) has many outliers so will impute NA by median as mean will be affected by outliers."
   ]
  },
  {
   "cell_type": "markdown",
   "metadata": {},
   "source": [
    "### <font color = 'blue'> Null Columns imputation"
   ]
  },
  {
   "cell_type": "code",
   "execution_count": 34,
   "metadata": {},
   "outputs": [
    {
     "data": {
      "text/plain": [
       "0"
      ]
     },
     "execution_count": 34,
     "metadata": {},
     "output_type": "execute_result"
    }
   ],
   "source": [
    "# Shipment Mode \n",
    "df_shipment[\"Shipment Mode\"] = df_shipment[\"Shipment Mode\"].fillna(df_shipment[\"Shipment Mode\"].mode()[0])\n",
    "\n",
    "# check nulls for Shipment Mode\n",
    "df_shipment[\"Shipment Mode\"].isnull().sum()"
   ]
  },
  {
   "cell_type": "code",
   "execution_count": 39,
   "metadata": {},
   "outputs": [
    {
     "name": "stdout",
     "output_type": "stream",
     "text": [
      "Null values in 'Dosage' column =  0\n",
      "categories in 'Dosage' column are =  Index(['Other', '300mg', '200mg', '600mg', '150/300mg', '150/300/200mg',\n",
      "       '10mg/ml', '150mg', '200/50mg', '300/300mg', '600/300/300mg',\n",
      "       '150/200/30mg', '100mg', '50mg', '200/300mg', '80/20mg/ml', '400mg',\n",
      "       '20mg/ml', '30mg', '600/200/300mg', '150/30mg', '30/50/60mg',\n",
      "       '300/200mg', '30/60mg', '250mg', '60/30mg', '100/25mg', '600/300mg',\n",
      "       '300/100mg', '1mg/ml', '20mg', '25mg', '15mg', '30mg/ml',\n",
      "       '300/150/300mg', '30/50/6mg', '30/6mg', '500/25mg', '80mg/ml',\n",
      "       '60/100/12mg', '20/120mg', '2g', '500mg', '150/300+200mg',\n",
      "       '150/300mg+600mg', '133.3/33.3mg', '40mg', '60/12mg', '150/200/40mg',\n",
      "       '60mg', '125mg', '50+153mg', '600mg/2ml', '50mg/g', '150/300+300mg'],\n",
      "      dtype='object')\n"
     ]
    }
   ],
   "source": [
    "# Shipment Mode \n",
    "df_shipment[\"Dosage\"] = df_shipment[\"Dosage\"].fillna('Other')\n",
    "\n",
    "# check nulls for Shipment Mode\n",
    "print(\"Null values in 'Dosage' column = \",df_shipment[\"Dosage\"].isnull().sum())\n",
    "\n",
    "# Check categories\n",
    "print(\"categories in 'Dosage' column are = \",df_shipment[\"Dosage\"].value_counts().index)"
   ]
  },
  {
   "cell_type": "code",
   "execution_count": 40,
   "metadata": {},
   "outputs": [
    {
     "data": {
      "text/plain": [
       "0"
      ]
     },
     "execution_count": 40,
     "metadata": {},
     "output_type": "execute_result"
    }
   ],
   "source": [
    "# Shipment Mode \n",
    "df_shipment[\"Line Item Insurance (USD)\"] = df_shipment[\"Line Item Insurance (USD)\"].fillna(df_shipment[\"Line Item Insurance (USD)\"].median())\n",
    "\n",
    "# check nulls for Shipment Mode\n",
    "df_shipment[\"Line Item Insurance (USD)\"].isnull().sum()"
   ]
  },
  {
   "cell_type": "code",
   "execution_count": 41,
   "metadata": {},
   "outputs": [
    {
     "data": {
      "text/plain": [
       "0"
      ]
     },
     "execution_count": 41,
     "metadata": {},
     "output_type": "execute_result"
    }
   ],
   "source": [
    "## Check null count for dataframe\n",
    "df_shipment.isnull().sum().sum()"
   ]
  },
  {
   "cell_type": "code",
   "execution_count": null,
   "metadata": {},
   "outputs": [],
   "source": []
  },
  {
   "cell_type": "code",
   "execution_count": null,
   "metadata": {},
   "outputs": [],
   "source": []
  },
  {
   "cell_type": "code",
   "execution_count": null,
   "metadata": {},
   "outputs": [],
   "source": []
  },
  {
   "cell_type": "code",
   "execution_count": null,
   "metadata": {},
   "outputs": [],
   "source": []
  }
 ],
 "metadata": {
  "kernelspec": {
   "display_name": "Python 3",
   "language": "python",
   "name": "python3"
  },
  "language_info": {
   "codemirror_mode": {
    "name": "ipython",
    "version": 3
   },
   "file_extension": ".py",
   "mimetype": "text/x-python",
   "name": "python",
   "nbconvert_exporter": "python",
   "pygments_lexer": "ipython3",
   "version": "3.8.5"
  }
 },
 "nbformat": 4,
 "nbformat_minor": 4
}
